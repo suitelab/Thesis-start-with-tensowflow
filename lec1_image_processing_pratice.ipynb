{
  "nbformat": 4,
  "nbformat_minor": 0,
  "metadata": {
    "colab": {
      "name": "lec1-image-processing-pratice.ipynb",
      "version": "0.3.2",
      "provenance": [],
      "collapsed_sections": []
    },
    "kernelspec": {
      "name": "python3",
      "display_name": "Python 3"
    },
    "accelerator": "GPU"
  },
  "cells": [
    {
      "cell_type": "markdown",
      "metadata": {
        "id": "view-in-github",
        "colab_type": "text"
      },
      "source": [
        "[View in Colaboratory](https://colab.research.google.com/github/suitelab/Thesis-start-with-tensowflow/blob/master/lec1_image_processing_pratice.ipynb)"
      ]
    },
    {
      "metadata": {
        "id": "nZTqSBm7kPWx",
        "colab_type": "text"
      },
      "cell_type": "markdown",
      "source": [
        "# BASIC MNIST USAGE"
      ]
    },
    {
      "metadata": {
        "id": "ag7LbVpuK369",
        "colab_type": "code",
        "colab": {
          "base_uri": "https://localhost:8080/",
          "height": 35
        },
        "outputId": "84278af9-d397-400b-8afd-8cc06290fb42"
      },
      "cell_type": "code",
      "source": [
        "import numpy as np\n",
        "import tensorflow as tf\n",
        "import matplotlib.pyplot as plt\n",
        "from tensorflow.examples.tutorials.mnist import input_data\n",
        "%matplotlib inline\n",
        "print('tensorflow version is {%s}' % (tf.__version__))"
      ],
      "execution_count": 10,
      "outputs": [
        {
          "output_type": "stream",
          "text": [
            "tensorflow version is {1.6.0}\n"
          ],
          "name": "stdout"
        }
      ]
    },
    {
      "metadata": {
        "id": "CAxatS_hoVky",
        "colab_type": "text"
      },
      "cell_type": "markdown",
      "source": [
        "# Download mnist"
      ]
    },
    {
      "metadata": {
        "id": "LJYI77CCnoYq",
        "colab_type": "code",
        "colab": {
          "base_uri": "https://localhost:8080/",
          "height": 89
        },
        "outputId": "96f9c039-62c5-4488-edde-394e0202e90f"
      },
      "cell_type": "code",
      "source": [
        "mnist = input_data.read_data_sets('data/', one_hot=True)"
      ],
      "execution_count": 8,
      "outputs": [
        {
          "output_type": "stream",
          "text": [
            "Extracting data/train-images-idx3-ubyte.gz\n",
            "Extracting data/train-labels-idx1-ubyte.gz\n",
            "Extracting data/t10k-images-idx3-ubyte.gz\n",
            "Extracting data/t10k-labels-idx1-ubyte.gz\n"
          ],
          "name": "stdout"
        }
      ]
    },
    {
      "metadata": {
        "id": "S2bIQ3PuoHBH",
        "colab_type": "code",
        "colab": {
          "base_uri": "https://localhost:8080/",
          "height": 53
        },
        "outputId": "f89c817f-2ba2-45fa-ed46-292590f096dc"
      },
      "cell_type": "code",
      "source": [
        "print(mnist.train.images.shape)\n",
        "print(mnist.train.labels.shape)"
      ],
      "execution_count": 20,
      "outputs": [
        {
          "output_type": "stream",
          "text": [
            "(55000, 784)\n",
            "(55000, 10)\n"
          ],
          "name": "stdout"
        }
      ]
    },
    {
      "metadata": {
        "id": "fb1JGhb-ohIV",
        "colab_type": "code",
        "colab": {
          "base_uri": "https://localhost:8080/",
          "height": 53
        },
        "outputId": "42dc77cf-8749-4dac-de52-5b94ebb77109"
      },
      "cell_type": "code",
      "source": [
        "print(mnist.test.images.shape)\n",
        "print(mnist.test.labels.shape)"
      ],
      "execution_count": 22,
      "outputs": [
        {
          "output_type": "stream",
          "text": [
            "(10000, 784)\n",
            "(10000, 10)\n"
          ],
          "name": "stdout"
        }
      ]
    },
    {
      "metadata": {
        "id": "6u0PwlyGpr39",
        "colab_type": "code",
        "colab": {
          "base_uri": "https://localhost:8080/",
          "height": 53
        },
        "outputId": "8b9f6c12-eb0f-4bff-d66c-4f8d246e1a11"
      },
      "cell_type": "code",
      "source": [
        "print(mnist.validation.images.shape)\n",
        "print(mnist.validation.labels.shape)"
      ],
      "execution_count": 23,
      "outputs": [
        {
          "output_type": "stream",
          "text": [
            "(5000, 784)\n",
            "(5000, 10)\n"
          ],
          "name": "stdout"
        }
      ]
    },
    {
      "metadata": {
        "id": "fNbIQG3Tpvqf",
        "colab_type": "text"
      },
      "cell_type": "markdown",
      "source": [
        "# Plot train images"
      ]
    },
    {
      "metadata": {
        "id": "ur8_ipIBp1WJ",
        "colab_type": "code",
        "colab": {
          "base_uri": "https://localhost:8080/",
          "height": 806
        },
        "outputId": "863207ea-1586-41f9-f632-2e908cea92f9"
      },
      "cell_type": "code",
      "source": [
        "ntrain = mnist.train.images.shape[0]\n",
        "nsample = 3\n",
        "randidx = np.random.randint(55000, size=nsample)\n",
        "for i in randidx:\n",
        "  imgvec = mnist.train.images[i, :]\n",
        "  labelvec = mnist.train.labels[i, :]\n",
        "  img = np.reshape(imgvec, (28, 28))\n",
        "  label = np.argmax(labelvec)\n",
        "  plt.matshow(img, cmap=plt.get_cmap('gray'))\n",
        "  plt.title(\"[%d] data / label is [%d]\"%(i, label))"
      ],
      "execution_count": 53,
      "outputs": [
        {
          "output_type": "display_data",
          "data": {
            "image/png": "[encoded data removed]",
            "text/plain": [
              "<matplotlib.figure.Figure at 0x7f3dfe8e1ef0>"
            ]
          },
          "metadata": {
            "tags": []
          }
        },
        {
          "output_type": "display_data",
          "data": {
            "image/png": "[encoded data removed]",
            "text/plain": [
              "<matplotlib.figure.Figure at 0x7f3dfe8aa5c0>"
            ]
          },
          "metadata": {
            "tags": []
          }
        },
        {
          "output_type": "display_data",
          "data": {
            "image/png": "[encoded data removed]",
            "text/plain": [
              "<matplotlib.figure.Figure at 0x7f3dfe8677b8>"
            ]
          },
          "metadata": {
            "tags": []
          }
        }
      ]
    },
    {
      "metadata": {
        "id": "EkCTNpY1qKU0",
        "colab_type": "code",
        "colab": {
          "base_uri": "https://localhost:8080/",
          "height": 35
        },
        "outputId": "2f8dab00-a2c7-47e9-c182-beed3a766965"
      },
      "cell_type": "code",
      "source": [
        "labelvec"
      ],
      "execution_count": 54,
      "outputs": [
        {
          "output_type": "execute_result",
          "data": {
            "text/plain": [
              "array([0., 0., 0., 0., 0., 0., 1., 0., 0., 0.])"
            ]
          },
          "metadata": {
            "tags": []
          },
          "execution_count": 54
        }
      ]
    },
    {
      "metadata": {
        "id": "K2TQR69nqLJU",
        "colab_type": "text"
      },
      "cell_type": "markdown",
      "source": [
        "# Get Random Minibatch"
      ]
    },
    {
      "metadata": {
        "id": "bEauPStetAVu",
        "colab_type": "code",
        "colab": {
          "base_uri": "https://localhost:8080/",
          "height": 35
        },
        "outputId": "d0cb5cf7-b2c9-45c5-9879-dcde9238aa0c"
      },
      "cell_type": "code",
      "source": [
        "ntrain = 10\n",
        "randindices = np.random.permutation(ntrain)\n",
        "randindices.shape"
      ],
      "execution_count": 58,
      "outputs": [
        {
          "output_type": "execute_result",
          "data": {
            "text/plain": [
              "(10,)"
            ]
          },
          "metadata": {
            "tags": []
          },
          "execution_count": 58
        }
      ]
    },
    {
      "metadata": {
        "id": "vNt7bQ8KtKRI",
        "colab_type": "code",
        "colab": {
          "base_uri": "https://localhost:8080/",
          "height": 179
        },
        "outputId": "b17f42e6-8697-47dc-bfa9-77a30b395dda"
      },
      "cell_type": "code",
      "source": [
        "ntrain = 10\n",
        "nbatch = 4\n",
        "niter = ntrain // nbatch + 1\n",
        "for i in range(niter):\n",
        "  currindLoss = randindices[i*nbatch:(i+1)*nbatch]\n",
        "  print(i, currindLoss)\n",
        "  \n",
        "  x_batch = mnist.train.images[currindLoss, i]\n",
        "  y_batch = mnist.train.labels[currindLoss, i]\n",
        "  \n",
        "  print(x_batch.shape)\n",
        "  print(y_batch.shape)"
      ],
      "execution_count": 67,
      "outputs": [
        {
          "output_type": "stream",
          "text": [
            "0 [7 5 9 1]\n",
            "(4,)\n",
            "(4,)\n",
            "1 [2 0 3 8]\n",
            "(4,)\n",
            "(4,)\n",
            "2 [4 6]\n",
            "(2,)\n",
            "(2,)\n"
          ],
          "name": "stdout"
        }
      ]
    },
    {
      "metadata": {
        "id": "HDRoV3Z1t0E3",
        "colab_type": "code",
        "colab": {}
      },
      "cell_type": "code",
      "source": [
        ""
      ],
      "execution_count": 0,
      "outputs": []
    }
  ]
}